{
 "cells": [
  {
   "cell_type": "markdown",
   "id": "ddd6a6c1",
   "metadata": {},
   "source": [
    "<h2>Introduction</h2>\n",
    "<p>There are many different data types in Python and for beginners it is confusing to remember how to create one or another. Despite that there are a lot of great instructions and articles on this topic, usually they are not bringing all of the data types together.</p>\n",
    "<p>in this file I try to cover all main data types and compare and remember which types of brackets are used for each of them. </p>\n",
    "\n",
    "There are four built-in data types in Python used to store collections of data:\n",
    "<ol><li>list</li> \n",
    "    <li>tuple</li>\n",
    "    <li>set</li>\n",
    "    <li>dictionary</li>\n",
    "</ol>\n",
    "<p>\n",
    "In addition, there are Numpy arrays and Pandas Dataframes</p>"
   ]
  },
  {
   "cell_type": "markdown",
   "id": "e2bfff44",
   "metadata": {},
   "source": [
    "The type can be specified by a function or by use of a special type of brackets\n",
    "<br/>\n",
    "<h2>Bracket types</h2>\n",
    "There are four main types of brackets: \n",
    "<ol type = \"1\">\n",
    "    <li>Round brackets <b>\"( )\"</b> </span></li>\n",
    "    In British English <span style=\"background-color:yellow\">\"Brackets\"</span>\n",
    "    <br>In American English \"Parantheses\"\n",
    "<li>Square brackets <b>\"[ ]\"</b></li>\n",
    "    In British English \"Square Brackets\"\n",
    "    <br>In American English <span style=\"background-color:yellow\">\"Brackets\"</span>\n",
    "<li>Curly brackets <b>\"{ }\"</b></li>\n",
    "    In British English \"Curly brackets\"\n",
    "    <br>In American English \"Braces\"\n",
    "</ol>\n",
    "<br/>\n",
    "<i>Note, that <b>brackets</b> refer to <u>round brackets</u> in Br.Eng. and to <u>square brackets</u> in Am.Eng.</i>"
   ]
  },
  {
   "cell_type": "code",
   "execution_count": 52,
   "id": "787d8703",
   "metadata": {},
   "outputs": [
    {
     "name": "stdout",
     "output_type": "stream",
     "text": [
      " this is list1: ['Apple', 10, 0.25]\n",
      " this is list2: ['Apple', 10, 0.25]\n",
      "first element of a list has number 0 - \"list2[0]\": Apple\n"
     ]
    }
   ],
   "source": [
    "#type can be defined either by entering function:\n",
    "list1 = list((\"Apple\", 10, 0.25))\n",
    "print(f' this is list1: {list1}')\n",
    "#or by selecting specific brackets\n",
    "list2 = [\"Apple\", 10, 0.25]\n",
    "print(f' this is list2: {list2}')\n",
    "#To address an element of a list, its number (starting from zero) in square brackets is used\n",
    "print(f'first element of a list has number 0 - \"list2[0]\": {list2[0]}')"
   ]
  },
  {
   "cell_type": "code",
   "execution_count": 21,
   "id": "c64188ef",
   "metadata": {},
   "outputs": [
    {
     "name": "stdout",
     "output_type": "stream",
     "text": [
      "this is the whole list3: ['Apple', ['Paraguay', 11233], 0.25]\n",
      "the second element of the list3 is a list itself: ['Paraguay', 11233]\n",
      " the second item of the list, which is itself a second item \n",
      "      within the main list can be called by: list3[1][1]: 11233\n"
     ]
    }
   ],
   "source": [
    "#Elements of the list can be of different types: string, integer, float\n",
    "#Element of a list can be even a list\n",
    "list3 = [\"Apple\", [\"Paraguay\", 11233], 0.25]\n",
    "print(f'this is the whole list3: {list3}')\n",
    "print(f'the second element of the list3 is a list itself: {list3[1]}')\n",
    "#to get an element of a list which is an element of another list, \n",
    "#just add a second index:\n",
    "print(f''' the second item of the list, which is itself a second item \n",
    "      within the main list can be called by: list3[1][1]: {list3[1][1]}''')"
   ]
  },
  {
   "cell_type": "code",
   "execution_count": 60,
   "id": "01198f50",
   "metadata": {},
   "outputs": [
    {
     "name": "stdout",
     "output_type": "stream",
     "text": [
      "tuple1: ('Apple', 10, 0.25)\n",
      "tuple2: ('Apple', 10, 0.25)\n",
      " second item of a tuple1 is tuple1[1] = 10\n"
     ]
    }
   ],
   "source": [
    "#Tuples are the list, where elements order is not modifiable, but ordered\n",
    "tuple1 = tuple((\"Apple\", 10, 0.25)) #by use of function\n",
    "tuple2 = (\"Apple\", 10, 0.25) #by use of round brackets\n",
    "print(f'tuple1: {tuple1}')\n",
    "print(f'tuple2: {tuple2}')\n",
    "\n",
    "#However, call a tulip item by square brackets, like a list item\n",
    "print(f' second item of a tuple1 is tuple1[1] = {tuple1[1]}')"
   ]
  },
  {
   "cell_type": "code",
   "execution_count": 48,
   "id": "bc8167fe",
   "metadata": {},
   "outputs": [
    {
     "ename": "NameError",
     "evalue": "name 'list4' is not defined",
     "output_type": "error",
     "traceback": [
      "\u001b[1;31m---------------------------------------------------------------------------\u001b[0m",
      "\u001b[1;31mNameError\u001b[0m                                 Traceback (most recent call last)",
      "\u001b[1;32m~\\AppData\\Local\\Temp\\ipykernel_20368\\2658436509.py\u001b[0m in \u001b[0;36m<module>\u001b[1;34m\u001b[0m\n\u001b[0;32m      4\u001b[0m \u001b[0mlist2\u001b[0m \u001b[1;33m=\u001b[0m \u001b[1;33m[\u001b[0m\u001b[1;34m\"Apple\"\u001b[0m\u001b[1;33m,\u001b[0m \u001b[1;36m10\u001b[0m\u001b[1;33m,\u001b[0m \u001b[1;36m0.25\u001b[0m\u001b[1;33m]\u001b[0m\u001b[1;33m\u001b[0m\u001b[1;33m\u001b[0m\u001b[0m\n\u001b[0;32m      5\u001b[0m \u001b[1;31m#change value of an element can be performed\u001b[0m\u001b[1;33m\u001b[0m\u001b[1;33m\u001b[0m\u001b[0m\n\u001b[1;32m----> 6\u001b[1;33m \u001b[0mlist4\u001b[0m\u001b[1;33m[\u001b[0m\u001b[1;36m1\u001b[0m\u001b[1;33m]\u001b[0m \u001b[1;33m=\u001b[0m \u001b[1;36m12\u001b[0m\u001b[1;33m\u001b[0m\u001b[1;33m\u001b[0m\u001b[0m\n\u001b[0m\u001b[0;32m      7\u001b[0m \u001b[0mprint\u001b[0m\u001b[1;33m(\u001b[0m\u001b[0mlist4\u001b[0m\u001b[1;33m)\u001b[0m\u001b[1;33m\u001b[0m\u001b[1;33m\u001b[0m\u001b[0m\n\u001b[0;32m      8\u001b[0m \u001b[1;33m\u001b[0m\u001b[0m\n",
      "\u001b[1;31mNameError\u001b[0m: name 'list4' is not defined"
     ]
    }
   ],
   "source": [
    "#The difference between the list and the tuple is that the latter is not modifiable. \n",
    "#Elements cannot be changed\n",
    "\n",
    "list2 = [\"Apple\", 10, 0.25]\n",
    "#change value of an element can be performed\n",
    "list4[1] = 12\n",
    "print(list4)\n",
    "\n",
    "\n",
    "#The following returns an error: 'tuple' object does not support item assignment\n",
    "tuple2 = (\"Apple\", 10, 0.25)\n",
    "tuple4[1] = 13\n",
    "\n"
   ]
  },
  {
   "cell_type": "code",
   "execution_count": null,
   "id": "30b8660e",
   "metadata": {},
   "outputs": [],
   "source": [
    "#subset list\n",
    "list4 = list2[0:2]"
   ]
  },
  {
   "cell_type": "code",
   "execution_count": 66,
   "id": "a5411957",
   "metadata": {},
   "outputs": [
    {
     "name": "stdout",
     "output_type": "stream",
     "text": [
      "{'Apple', 'Watermelon', 'Banana'}\n",
      "{'Apple', 'Watermelon', 'Banana'}\n"
     ]
    },
    {
     "data": {
      "text/plain": [
       "True"
      ]
     },
     "execution_count": 66,
     "metadata": {},
     "output_type": "execute_result"
    }
   ],
   "source": [
    "#Sets are unordered, unchangable and do not allow duplicates. But the elements can be deleted or added.\n",
    "#Sets can be created by use of curly brackets \"{}\"\n",
    "set1 = {\"Apple\", \"Banana\", \"Watermelon\"}\n",
    "#Or use a function set()\n",
    "set2 = set((\"Apple\", \"Banana\", \"Watermelon\"))\n",
    "\n",
    "print(set1)\n",
    "print(set2)\n",
    "#This type can be used as a \"drop-down\" list to check if the value is in the predefined list\n",
    "\"Apple\" in set1"
   ]
  },
  {
   "cell_type": "code",
   "execution_count": 40,
   "id": "c50ebeb1",
   "metadata": {},
   "outputs": [
    {
     "name": "stdout",
     "output_type": "stream",
     "text": [
      "{'fruit': 'Apple', 'country': 'Italy', 'type': 'Pink lady'}\n",
      "{'fruit': 'Apple', 'country': 'Italy', 'type': 'Pink lady'}\n",
      "{'fruit': 'Apple', 'country': 'Italy', 'type': 'Pink lady'}\n",
      "Apple\n",
      "dict4: {'fruit': ['Apple', 'Peach'], 'country': ['Italy', 'Spain'], 'type': ['Pink lady', 'White']}\n",
      "dict4, key = fruit: ['Apple', 'Peach']\n"
     ]
    },
    {
     "ename": "KeyError",
     "evalue": "1",
     "output_type": "error",
     "traceback": [
      "\u001b[1;31m---------------------------------------------------------------------------\u001b[0m",
      "\u001b[1;31mKeyError\u001b[0m                                  Traceback (most recent call last)",
      "\u001b[1;32m~\\AppData\\Local\\Temp\\ipykernel_9132\\901581394.py\u001b[0m in \u001b[0;36m<module>\u001b[1;34m\u001b[0m\n\u001b[0;32m     33\u001b[0m \u001b[1;33m\u001b[0m\u001b[0m\n\u001b[0;32m     34\u001b[0m \u001b[0mdict4\u001b[0m\u001b[1;33m[\u001b[0m\u001b[1;34m\"fruit\"\u001b[0m\u001b[1;33m]\u001b[0m\u001b[1;33m[\u001b[0m\u001b[1;36m1\u001b[0m\u001b[1;33m]\u001b[0m\u001b[1;33m\u001b[0m\u001b[1;33m\u001b[0m\u001b[0m\n\u001b[1;32m---> 35\u001b[1;33m \u001b[0mdict4\u001b[0m\u001b[1;33m[\u001b[0m\u001b[1;36m1\u001b[0m\u001b[1;33m]\u001b[0m\u001b[1;33m\u001b[0m\u001b[1;33m\u001b[0m\u001b[0m\n\u001b[0m",
      "\u001b[1;31mKeyError\u001b[0m: 1"
     ]
    }
   ],
   "source": [
    "#Another data type is dictionary\n",
    "#It is a list of data, but with the key\n",
    "#Also curly brackets can be used to create a dictionary\n",
    "dict1 = {\"fruit\" : \"Apple\",\n",
    "        \"country\" : \"Italy\",\n",
    "        \"type\": \"Pink lady\"}\n",
    "\n",
    "#Or use function dict(), but here an equal sign should be used \n",
    "\n",
    "dict2 = dict(fruit=\"Apple\",\n",
    "        country=\"Italy\",\n",
    "        type=\"Pink lady\")\n",
    "#Or use dict() and create list [] of tuples (), where the first element is the key and the second is the value\n",
    "dict3 = dict([(\"fruit\", \"Apple\"),\n",
    "        (\"country\", \"Italy\"),\n",
    "        (\"type\", \"Pink lady\")])\n",
    "\n",
    "print(dict1)\n",
    "print(dict2)\n",
    "print(dict3)\n",
    "\n",
    "#the value can be called by a value\n",
    "print(dict1[\"fruit\"])\n",
    "\n",
    "\n",
    "#dictionary can contain more than one entry\n",
    "dict4 = {\"fruit\" : [\"Apple\",\"Peach\"],\n",
    "        \"country\" : [\"Italy\", \"Spain\"],\n",
    "        \"type\": [\"Pink lady\", \"White\"]}\n",
    "\n",
    "#Get whole dictionary\n",
    "print(f'dict4: {dict4}')\n",
    "\n",
    "#Get all fruits\n",
    "print(f'dict4, key = fruit: {dict4[\"fruit\"]}')\n",
    "\n"
   ]
  },
  {
   "cell_type": "code",
   "execution_count": 15,
   "id": "fe3ceefb",
   "metadata": {},
   "outputs": [
    {
     "name": "stdout",
     "output_type": "stream",
     "text": [
      "[{'producer': 'Mercedes', 'model': 'CLK320', 'year': 2003}, {'producer': 'BMW', 'model': 'X5', 'year': 2008}]\n",
      "[{'producer': 'Mercedes', 'model': 'CLK320', 'year': 2003}, {'producer': 'BMW', 'model': 'X5', 'year': 2008}]\n",
      "X5\n",
      "2003\n",
      "2008\n"
     ]
    }
   ],
   "source": [
    "#Dictionaries can be used to store entries from forms,\n",
    "#In this case a list of dictionaties is created\n",
    "\n",
    "#Create a list with 2 dictionaries via dict()\n",
    "cars1 = list((dict(producer = \"Mercedes\",\n",
    "                 model = \"CLK320\",\n",
    "                 year = 2003),\n",
    "            dict(producer = \"BMW\",\n",
    "                model = \"X5\",\n",
    "                year = 2008)))\n",
    "\n",
    "print(cars1)\n",
    "\n",
    "#Or via curly brackets\n",
    "\n",
    "cars2 = [{\"producer\": \"Mercedes\",\n",
    "                 \"model\": \"CLK320\",\n",
    "                 \"year\": 2003},\n",
    "            {\"producer\":\"BMW\",\n",
    "                \"model\": \"X5\",\n",
    "                \"year\":2008}]\n",
    "\n",
    "print(cars2)\n",
    "\n",
    "#Data can be extracted from any dictionary\n",
    "print(cars2[1][\"model\"])\n",
    "\n",
    "#Or even from all dictionaries. \n",
    "for i in range(0,2):\n",
    "    print(cars1[i][\"year\"])"
   ]
  },
  {
   "cell_type": "markdown",
   "id": "43ccb64b",
   "metadata": {},
   "source": [
    "There are two other popular data types, which are not standard in Python, but require a specific package: \n",
    "<br>\n",
    "<ol>\n",
    "    <li><i>Numpy</i> - based on <b>arrays</b> and used to work with linear algebra and matrices. <a href=\"https://numpy.org/doc/stable/reference/arrays.ndarray.html\">Link</a></li>\n",
    "    <li><i>Pandas</i> - used for data analysis. The main data type is <b> Dataframe</b> <a href=\"https://pandas.pydata.org/docs/reference/api/pandas.DataFrame.html\">Link</a></li>\n",
    "    </ol>"
   ]
  },
  {
   "cell_type": "code",
   "execution_count": 13,
   "id": "6de970a8",
   "metadata": {},
   "outputs": [
    {
     "name": "stdout",
     "output_type": "stream",
     "text": [
      "[[1 2 3]\n",
      " [4 5 6]\n",
      " [7 8 9]]\n",
      "[['1' '2' '3']\n",
      " ['a' 'b' 'c']\n",
      " ['7' '8' '9']]\n",
      "6\n",
      "[4 5 6]\n",
      "[3 6 9]\n"
     ]
    }
   ],
   "source": [
    "#import package\n",
    "import numpy as np\n",
    "\n",
    "#array can be multidimentional and should be of the same type\n",
    "#create array\n",
    "array1 = np.array([[1,2,3],[4,5,6],[7,8,9]], np.int32) #matrix 3 * 3\n",
    "\n",
    "print(array1)\n",
    "\n",
    "#if matrix contains strings, then numbers also conferted into strings as well\n",
    "array2 = np.array([[1,2,3],[\"a\",\"b\",\"c\"],[7,8,9]]) #matrix 3 * 3\n",
    "print(array2)\n",
    "\n",
    "#the value can be called by sellecting row and column (starting with zero)\n",
    "print(array1[1,2]) #for second row, third column\n",
    "\n",
    "print(array1[1,:]) #for whole second row\n",
    "print(array1[:,2]) #for whole third column"
   ]
  },
  {
   "cell_type": "code",
   "execution_count": 1,
   "id": "71572f5c",
   "metadata": {},
   "outputs": [
    {
     "name": "stdout",
     "output_type": "stream",
     "text": [
      "{'fruit': 'Apple', 'country': 'Italy', 'sort': 'Pink lady'}\n",
      "fruit          Apple\n",
      "country        Italy\n",
      "sort       Pink lady\n",
      "dtype: object\n",
      "Apple\n",
      "Apple\n",
      "{'fruit': ['Apple', 'Peach'], 'country': ['Italy', 'Spain'], 'type': ['Pink lady', 'White']}\n",
      "Peach\n"
     ]
    }
   ],
   "source": [
    "#import package\n",
    "import pandas as pd\n",
    "\n",
    "#Before going to Dataframes, another pandas datatype should be presented. \n",
    "#Series is onedimentional ndarray with axis labels\n",
    "\n",
    "#Series can be created form dictionaries \n",
    "\n",
    "#dictionary\n",
    "dict1 = {\"fruit\" : \"Apple\",\n",
    "        \"country\" : \"Italy\",\n",
    "        \"sort\": \"Pink lady\"}\n",
    "print(dict1)\n",
    "\n",
    "#Series from a dictionary\n",
    "Series1 = pd.Series(dict1)\n",
    "print(Series1)\n",
    "\n",
    "\n",
    "#Keys can be used as indexes in both cases\n",
    "print(dict1[\"fruit\"])\n",
    "print(Series1[\"fruit\"])\n",
    "\n",
    "#Create Series from dictionary with more than 2 values\n",
    "\n",
    "dict4 = {\"fruit\" : [\"Apple\",\"Peach\"],\n",
    "        \"country\" : [\"Italy\", \"Spain\"],\n",
    "        \"type\": [\"Pink lady\", \"White\"]}\n",
    "\n",
    "Series2 = pd.Series(dict4)\n",
    "print(dict4)\n",
    "print(Series2[\"fruit\"][1])"
   ]
  },
  {
   "cell_type": "code",
   "execution_count": 49,
   "id": "2f7255b1",
   "metadata": {
    "scrolled": true
   },
   "outputs": [
    {
     "name": "stdout",
     "output_type": "stream",
     "text": [
      " whole DataFrame1: \n",
      "            fruit country       type\n",
      "apple_001  Apple   Italy  Pink lady\n",
      "peach_002  Peach   Spain      White\n",
      "\n",
      "Dataframe1, first row: \n",
      " fruit          Apple\n",
      "country        Italy\n",
      "type       Pink lady\n",
      "Name: apple_001, dtype: object\n",
      "\n",
      "Dataframe1, first column (key): \n",
      " apple_001    Apple\n",
      "peach_002    Peach\n",
      "Name: fruit, dtype: object\n",
      "\n",
      "\n",
      "Dataframe1, first row, Second column (key): \n",
      " Italy\n",
      "\n",
      "Dataframe1, by index (row): \n",
      " fruit          Apple\n",
      "country        Italy\n",
      "type       Pink lady\n",
      "Name: apple_001, dtype: object\n",
      "\n",
      "Dataframe1, by key (column): \n",
      " apple_001    Apple\n",
      "peach_002    Peach\n",
      "Name: fruit, dtype: object\n",
      "\n"
     ]
    }
   ],
   "source": [
    "# Pandas Dataframe is Two-dimensional, size-mutable, potentially heterogeneous tabular data.\n",
    "#Dataframe can be created out of arrays, Series\n",
    "\n",
    "#Create a pandas DataFrame from a dictionay. \n",
    "#Keys are converted into columns and values into rows\n",
    "DataFrame1 = pd.DataFrame(data = dict4, index = ['apple_001','peach_002']) #index defines keys for rows. \n",
    "\n",
    "print(f' whole DataFrame1: \\n {DataFrame1}\\n')\n",
    "\n",
    "#to get a specific value, method loc() or iloc() or iat() needs to be used\n",
    "#Select fow\n",
    "print(f'Dataframe1, first row: \\n {DataFrame1.iloc[0]}\\n')\n",
    "#Select column\n",
    "print(f'Dataframe1, first column (key): \\n {DataFrame1.iloc[:,0]}\\n')\n",
    "\n",
    "#Select specific value (row, column)\n",
    "print(f'\\nDataframe1, first row, Second column (key): \\n {DataFrame1.iloc[0,1]}\\n')\n",
    "\n",
    "\n",
    "#Select value by index\n",
    "print(f'Dataframe1, by index (row): \\n {DataFrame1.loc[\"apple_001\"]}\\n') \n",
    "\n",
    "#Select all values by key (column)\n",
    "print(f'Dataframe1, by key (column): \\n {DataFrame1.loc[:,\"fruit\"]}\\n') \n",
    "\n"
   ]
  },
  {
   "cell_type": "markdown",
   "id": "cf726109",
   "metadata": {},
   "source": [
    "<h2>Conclusion</h2>\n",
    "<p>In this exercise, I went through all main python data types and applied basic functionality to create, call, change data objects. From my point of view, comparison of different data types formating (brackets) helps to learn them more efficiently and systematised.</p> \n",
    "\n"
   ]
  }
 ],
 "metadata": {
  "kernelspec": {
   "display_name": "Python 3 (ipykernel)",
   "language": "python",
   "name": "python3"
  },
  "language_info": {
   "codemirror_mode": {
    "name": "ipython",
    "version": 3
   },
   "file_extension": ".py",
   "mimetype": "text/x-python",
   "name": "python",
   "nbconvert_exporter": "python",
   "pygments_lexer": "ipython3",
   "version": "3.9.13"
  }
 },
 "nbformat": 4,
 "nbformat_minor": 5
}
